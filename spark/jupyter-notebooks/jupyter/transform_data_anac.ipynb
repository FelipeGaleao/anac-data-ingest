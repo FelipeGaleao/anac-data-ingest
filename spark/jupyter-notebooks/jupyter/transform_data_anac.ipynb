{
 "cells": [
  {
   "cell_type": "code",
   "execution_count": 3,
   "id": "b983c050-93a3-43d0-9d01-5b3a6ce6df99",
   "metadata": {},
   "outputs": [],
   "source": [
    "from pyspark.conf import SparkConf\n",
    "from pyspark.sql import SparkSession\n",
    "from subprocess import check_output\n",
    "from pyspark import SparkFiles\n",
    "import collections\n",
    "import random\n",
    "\n",
    "spark_jars = \"org.apache.hadoop:hadoop-azure:3.3.1,com.microsoft.azure:azure-storage:8.6.6\"\n",
    "\n",
    "spark = (SparkSession.builder\n",
    "    .master(\"spark://ec1266a27642:7077\")\n",
    "    .appName(\"test-edu\")\n",
    "    .config(\"spark.jars.packages\", spark_jars)\\\n",
    "    .config(\"spark.executor.memory\", \"4g\")\\\n",
    "    .config(\"spark.sql.execution.arrow.pyspark.enabled\", \"true\")\\\n",
    "    .getOrCreate()\n",
    "        )\n"
   ]
  },
  {
   "cell_type": "code",
   "execution_count": 18,
   "id": "516d701b-7436-4ddd-8bfc-17ea6fc7d270",
   "metadata": {},
   "outputs": [],
   "source": [
    "spark.conf.set(\"spark.sql.execution.arrow.pyspark.enabled\", \"true\")\n",
    "df_voos = spark.read.csv('abfss://anac@ufmstrtadls.dfs.core.windows.net/RAW/2022', sep=';', header=True)\n",
    "filtro_destino = (df_voos.sg_icao_destino == 'SBCG')\n",
    "dfvoos_2022 = df_voos.filter(filtro_destino).select(['nm_empresa', 'sg_empresa_iata', 'nr_mes_partida_real', 'nr_voo', 'sg_icao_origem', 'sg_icao_destino'])\\\n",
    "                .groupby(['nm_empresa', 'sg_empresa_iata',  'nr_voo', 'sg_icao_origem', 'sg_icao_destino', 'nr_mes_partida_real'])\\\n",
    "                .count().sort('count', ascending=False)"
   ]
  },
  {
   "cell_type": "code",
   "execution_count": 20,
   "id": "b35a1a1e-dff2-4698-9f5b-94b193282142",
   "metadata": {},
   "outputs": [],
   "source": [
    "dfvoos_2022.write.parquet('abfss://anac@ufmstrtadls.dfs.core.windows.net/TRUSTED/ANAC/VOOS_REALIZADOS_2022', mode='overwrite')"
   ]
  },
  {
   "cell_type": "code",
   "execution_count": null,
   "id": "951189b9-106c-4383-a538-566d029aa670",
   "metadata": {},
   "outputs": [],
   "source": []
  },
  {
   "cell_type": "code",
   "execution_count": null,
   "id": "e4bb3d9d-4139-4026-a32d-3136ecf4bb49",
   "metadata": {},
   "outputs": [],
   "source": []
  },
  {
   "cell_type": "code",
   "execution_count": null,
   "id": "c9dcf465-2084-4f75-8c41-11407cfd34f9",
   "metadata": {},
   "outputs": [],
   "source": []
  }
 ],
 "metadata": {
  "kernelspec": {
   "display_name": "Python 3 (ipykernel)",
   "language": "python",
   "name": "python3"
  },
  "language_info": {
   "codemirror_mode": {
    "name": "ipython",
    "version": 3
   },
   "file_extension": ".py",
   "mimetype": "text/x-python",
   "name": "python",
   "nbconvert_exporter": "python",
   "pygments_lexer": "ipython3",
   "version": "3.9.10"
  }
 },
 "nbformat": 4,
 "nbformat_minor": 5
}
